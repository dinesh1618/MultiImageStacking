{
 "cells": [
  {
   "cell_type": "code",
   "execution_count": 1,
   "metadata": {},
   "outputs": [],
   "source": [
    "def imgStaking(imgArrays):\n",
    "    length = len(imgArrays)\n",
    "    imgWidth = imgArrays[0][0].shape[1]\n",
    "    imgHeight = imgArrays[0][0].shape[0]\n",
    "    for x in range(len(imgArrays)):\n",
    "        for y in range(len(imgArrays[1])):\n",
    "            imgArrays[x][y] = cv2.resize(imgArrays[x][y], (imgWidth, imgHeight))\n",
    "            if len(imgArrays[x][y].shape) == 2:\n",
    "                imgArrays[x][y] = cv2.cvtColor(imgArrays[x][y], cv2.COLOR_GRAY2BGR)\n",
    "    imgBlank = np.zeros((imgWidth, imgHeight), np.uint8)\n",
    "    hor = [imgBlank]*2\n",
    "    for i in range(length):\n",
    "        hor[i] = np.hstack(imgArrays[i])\n",
    "    ver = np.vstack(hor)\n",
    "    return ver"
   ]
  },
  {
   "cell_type": "code",
   "execution_count": null,
   "metadata": {},
   "outputs": [],
   "source": [
    "import cv2\n",
    "import numpy as np\n",
    "cap = cv2.VideoCapture(0)\n",
    "cap.set(3, 300)\n",
    "cap.set(4, 300)\n",
    "kernal = np.ones((5, 5), np.int8)\n",
    "\n",
    "while True:\n",
    "    res, img = cap.read()\n",
    "    imgGray = cv2.cvtColor(img, cv2.COLOR_BGR2GRAY)\n",
    "    imgBlur = cv2.GaussianBlur(imgGray, (7, 7), 0)\n",
    "    imgCanny = cv2.Canny(imgBlur, 75, 75)\n",
    "    imgDialate = cv2.dilate(imgCanny, kernal, iterations=2)\n",
    "    imgErode = cv2.erode(imgDialate, kernal, iterations=2)\n",
    "    staked = imgStaking([[img, imgGray, imgBlur], [imgCanny, imgDialate, imgErode]])\n",
    "#     print(staked)\n",
    "    cv2.imshow(\"image\", staked)\n",
    "    if cv2.waitKey(1) & 0xFF == ord(\"q\"):\n",
    "        break\n",
    "cv2.destroyAllWindows()\n",
    "cap.release()"
   ]
  }
 ],
 "metadata": {
  "kernelspec": {
   "display_name": "Python 3",
   "language": "python",
   "name": "python3"
  },
  "language_info": {
   "codemirror_mode": {
    "name": "ipython",
    "version": 3
   },
   "file_extension": ".py",
   "mimetype": "text/x-python",
   "name": "python",
   "nbconvert_exporter": "python",
   "pygments_lexer": "ipython3",
   "version": "3.8.8"
  }
 },
 "nbformat": 4,
 "nbformat_minor": 4
}
