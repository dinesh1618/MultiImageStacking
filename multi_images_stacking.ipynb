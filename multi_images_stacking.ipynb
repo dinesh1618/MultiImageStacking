{
 "cells": [
  {
   "cell_type": "code",
   "execution_count": 83,
   "id": "45fb79d8",
   "metadata": {},
   "outputs": [],
   "source": [
    "import cv2\n",
    "import numpy as np"
   ]
  },
  {
   "cell_type": "code",
   "execution_count": 84,
   "id": "15e26522",
   "metadata": {},
   "outputs": [],
   "source": [
    "def ImageStaking(images):\n",
    "    rows = len(images)\n",
    "    cols = len(images[0])\n",
    "    for i in range(rows):\n",
    "        for j in range(cols):\n",
    "            images[i][j] = cv2.resize(images[i][j], (250, 250))\n",
    "            if len(images[i][j].shape) == 2:\n",
    "                images[i][j] = cv2.cvtColor(images[i][j], cv2.COLOR_GRAY2BGR)\n",
    "    imgBlank = np.zeros((250, 250), np.uint32)\n",
    "    hor = [imgBlank]*rows\n",
    "    for i in range(rows):\n",
    "        hor[i] = np.hstack(images[i])\n",
    "    ver = np.vstack(hor)\n",
    "    return ver"
   ]
  },
  {
   "cell_type": "code",
   "execution_count": null,
   "id": "253bc80e",
   "metadata": {},
   "outputs": [],
   "source": []
  },
  {
   "cell_type": "code",
   "execution_count": null,
   "id": "ad1e2596",
   "metadata": {},
   "outputs": [],
   "source": []
  },
  {
   "cell_type": "code",
   "execution_count": 92,
   "id": "23c35fd7",
   "metadata": {},
   "outputs": [],
   "source": [
    "import cv2\n",
    "import numpy as np\n",
    "cap = cv2.VideoCapture(0)\n",
    "cap.set(3, 300)\n",
    "cap.set(4, 300)\n",
    "kernal = np.ones((5, 5), np.int8)\n",
    "\n",
    "while True:\n",
    "    res, img = cap.read()\n",
    "    imgGray = cv2.cvtColor(img, cv2.COLOR_BGR2GRAY)\n",
    "    imgBlur = cv2.GaussianBlur(imgGray, (7, 7), 0)\n",
    "    imgCanny = cv2.Canny(imgBlur, 75, 75)\n",
    "    imgDialate = cv2.dilate(imgCanny, kernal, iterations=2)\n",
    "    imgErode = cv2.erode(imgDialate, kernal, iterations=2)\n",
    "    staked = ImageStaking([[img, imgGray, imgBlur], [imgCanny, imgDialate, imgErode]])\n",
    "#     print(staked)\n",
    "    cv2.imshow(\"image\", staked)\n",
    "    if cv2.waitKey(1) & 0xFF == ord(\"q\"):\n",
    "        break\n",
    "cv2.destroyAllWindows()\n",
    "cap.release()"
   ]
  },
  {
   "cell_type": "code",
   "execution_count": 91,
   "id": "98aa3e9d",
   "metadata": {},
   "outputs": [],
   "source": [
    "cv2.destroyAllWindows()\n",
    "cap.release()"
   ]
  },
  {
   "cell_type": "code",
   "execution_count": null,
   "id": "bd45ba25",
   "metadata": {},
   "outputs": [],
   "source": []
  }
 ],
 "metadata": {
  "kernelspec": {
   "display_name": "Python 3",
   "language": "python",
   "name": "python3"
  },
  "language_info": {
   "codemirror_mode": {
    "name": "ipython",
    "version": 3
   },
   "file_extension": ".py",
   "mimetype": "text/x-python",
   "name": "python",
   "nbconvert_exporter": "python",
   "pygments_lexer": "ipython3",
   "version": "3.8.8"
  }
 },
 "nbformat": 4,
 "nbformat_minor": 5
}
